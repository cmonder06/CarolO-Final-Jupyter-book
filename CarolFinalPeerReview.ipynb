{
 "cells": [
  {
   "cell_type": "markdown",
   "id": "1c9e8bb7-2304-45ae-86eb-b8c298a6c85e",
   "metadata": {},
   "source": [
    "*Carol Final Peer Review*"
   ]
  },
  {
   "cell_type": "markdown",
   "id": "b9ef7a2c-fd3f-445d-a2ce-7ade1bfdf9b8",
   "metadata": {},
   "source": [
    "**Introduction:PeerReview**"
   ]
  },
  {
   "cell_type": "markdown",
   "id": "a1a72d2a-4baf-4490-a617-f9f8a4a290e9",
   "metadata": {},
   "source": [
    "Intro to Data Science Language\n",
    "1. Python\n",
    "2. SQL\n",
    "3. Java\n",
    "4. Scala\n",
    "5. Julia\n",
    "6. MATLAB\n",
    "7. JavaScript\n",
    "8. C++\n",
    "9. SAS\n",
    "10. Swift\n",
    "11. Ruby\n",
    "12. Lisp\n",
    "13. Kotlin\n",
    "14. TensorFlow\n",
    "15. Perl\n",
    "16. Haskell\n",
    "17. Rust\n",
    "18. Golang\n",
    "19. Fortran\n",
    "20. Dart\n",
    "21. Prolog\n",
    "22. Keras\n",
    "23. GNU Octave\n",
    "24. NLTK"
   ]
  },
  {
   "cell_type": "markdown",
   "id": "c2f0532a-800d-4b13-9d2b-5b5cb156c0d1",
   "metadata": {},
   "source": [
    "Table of Data Science Libraries\n",
    "Python Libraries\n",
    "\n",
    "1. Pandas\n",
    "2. Matplotlib\n",
    "3. TensorFlow\n",
    "4. SciPy\n",
    "5. Scrapy\n",
    "6. NumPy\n",
    "7. SeaBorn\n",
    "8. Keras\n",
    "9. PyTorch\n",
    "10.SQLModel\n",
    "\n"
   ]
  },
  {
   "cell_type": "markdown",
   "id": "b0b804c2-b3f9-490f-82e7-d171550b6a38",
   "metadata": {},
   "source": [
    "table of Data Science Tools\n",
    "|syntax| |description|\n",
    "|\n",
    "|------------------------|\n",
    "|----------------------------|\n",
    "|Header Data Science Tools |Tools|\n",
    "|Paragraph| RapidMiner|\n",
    "|Paragraph| Apache Spark|\n",
    "|Paragraph| KNIME|\n",
    "|Paragraph|Tableau|\n",
    "|Paragraph|TensorFlow|\n",
    "|Paragraph|MATLAB|\n",
    "|Paragraph|SAS|\n",
    "|Paragraph|SCikitlearn|\n",
    "|Paragraph|Python|\n",
    "|paragraph|Project Jupyter|\n",
    "|Paragraph|Apache Hadoop|"
   ]
  },
  {
   "cell_type": "markdown",
   "id": "cd7e3318-6e24-4f3a-822c-4b532e7a002e",
   "metadata": {},
   "source": [
    "Arithmetic expression examples\n",
    "\n",
    "(10+5)*3\n",
    "=45\n",
    "\n",
    "(20+5)*4\n",
    "=100"
   ]
  },
  {
   "cell_type": "code",
   "execution_count": 18,
   "id": "2476bd36-750f-42ac-8917-4c1af2649fc3",
   "metadata": {},
   "outputs": [
    {
     "ename": "SyntaxError",
     "evalue": "invalid syntax (2337949011.py, line 1)",
     "output_type": "error",
     "traceback": [
      "\u001b[0;36m  File \u001b[0;32m\"/tmp/ipykernel_1985/2337949011.py\"\u001b[0;36m, line \u001b[0;32m1\u001b[0m\n\u001b[0;31m    muiltiply and add numbers\u001b[0m\n\u001b[0m                            ^\u001b[0m\n\u001b[0;31mSyntaxError\u001b[0m\u001b[0;31m:\u001b[0m invalid syntax\n"
     ]
    }
   ],
   "source": [
    "muiltiply and add numbers\n",
    "\n",
    "1 *(2+5)\n",
    "=7\n",
    "2 *(3+6)\n",
    "=18\n",
    "3 *(4+7)\n",
    "=33\n",
    "4 *(5+8)\n",
    "=52\n",
    "5 *(6+9)\n",
    "=75\n",
    "6 *(7+10)\n",
    "=102\n",
    "7 *(8+11)\n",
    "=133\n",
    "8 *(9+12)\n",
    "=168\n",
    "9 *(10+13)\n",
    "=207\n",
    "\n",
    "\n"
   ]
  },
  {
   "cell_type": "code",
   "execution_count": null,
   "id": "8d069330-3aaf-44d1-945e-4c193514aa75",
   "metadata": {},
   "outputs": [],
   "source": [
    "convert minutes to hours\n",
    "\n",
    "function convert Seconds (seconds){\n",
    "    var convert = function(x) { return (x,10)\n",
    "                               return convert(parseInt(seconds / (60*60)))\n",
    "                               convert(parseInt(seconds / 60 % 60))\n",
    "                               convert(seconds % 60)}\n"
   ]
  },
  {
   "cell_type": "markdown",
   "id": "cc5a42a6-02ae-470e-abeb-5b3fa131ae71",
   "metadata": {},
   "source": [
    "list objectives\n",
    "Objectives for project\n",
    "\n",
    "-List data science languages\n",
    "-list data science libraries\n",
    "-create table of Data science tools\n",
    "-use and example of an arithmetic expression\n",
    "-multiply and add numbers\n",
    "-use code to convert minutes to hours\n",
    "\n"
   ]
  },
  {
   "cell_type": "markdown",
   "id": "1fe9ff5b-9741-48c9-8a45-87a02fcf0c2b",
   "metadata": {},
   "source": [
    "Carol Onderak"
   ]
  },
  {
   "cell_type": "code",
   "execution_count": null,
   "id": "6dd825f4-88b9-4d6f-97a3-69c4701aa871",
   "metadata": {},
   "outputs": [],
   "source": []
  }
 ],
 "metadata": {
  "kernelspec": {
   "display_name": "Python",
   "language": "python",
   "name": "conda-env-python-py"
  },
  "language_info": {
   "codemirror_mode": {
    "name": "ipython",
    "version": 3
   },
   "file_extension": ".py",
   "mimetype": "text/x-python",
   "name": "python",
   "nbconvert_exporter": "python",
   "pygments_lexer": "ipython3",
   "version": "3.7.12"
  }
 },
 "nbformat": 4,
 "nbformat_minor": 5
}
